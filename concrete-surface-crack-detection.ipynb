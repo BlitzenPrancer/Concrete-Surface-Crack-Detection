{
 "cells": [
  {
   "cell_type": "code",
   "execution_count": 1,
   "id": "87c02eed",
   "metadata": {
    "_cell_guid": "b1076dfc-b9ad-4769-8c92-a6c4dae69d19",
    "_uuid": "8f2839f25d086af736a60e9eeb907d3b93b6e0e5",
    "execution": {
     "iopub.execute_input": "2021-08-21T11:45:31.396026Z",
     "iopub.status.busy": "2021-08-21T11:45:31.395410Z",
     "iopub.status.idle": "2021-08-21T11:45:38.563498Z",
     "shell.execute_reply": "2021-08-21T11:45:38.562686Z",
     "shell.execute_reply.started": "2021-08-21T11:44:35.383243Z"
    },
    "papermill": {
     "duration": 7.186239,
     "end_time": "2021-08-21T11:45:38.563655",
     "exception": false,
     "start_time": "2021-08-21T11:45:31.377416",
     "status": "completed"
    },
    "tags": []
   },
   "outputs": [],
   "source": [
    "# i am importing numpy and pands for working with data\n",
    "import numpy as np\n",
    "import pandas as pd\n",
    "\n",
    "# for visualisation\n",
    "import matplotlib.pyplot as plt\n",
    "import seaborn as sns\n",
    "import plotly.express as px\n",
    "\n",
    "# for preprocessing\n",
    "from pathlib import Path\n",
    "from sklearn.model_selection import train_test_split\n",
    "\n",
    "# i'll get my model up and running with tensorflow\n",
    "import tensorflow as tf\n",
    "\n",
    "# evaluating the performance using sklearn\n",
    "from sklearn.metrics import confusion_matrix, classification_report"
   ]
  },
  {
   "cell_type": "code",
   "execution_count": 2,
   "id": "595c297e",
   "metadata": {
    "execution": {
     "iopub.execute_input": "2021-08-21T11:45:38.576836Z",
     "iopub.status.busy": "2021-08-21T11:45:38.576259Z",
     "iopub.status.idle": "2021-08-21T11:45:38.578979Z",
     "shell.execute_reply": "2021-08-21T11:45:38.578502Z",
     "shell.execute_reply.started": "2021-08-21T11:44:51.603333Z"
    },
    "papermill": {
     "duration": 0.009488,
     "end_time": "2021-08-21T11:45:38.579090",
     "exception": false,
     "start_time": "2021-08-21T11:45:38.569602",
     "status": "completed"
    },
    "tags": []
   },
   "outputs": [],
   "source": [
    "# using flow from data frame\n",
    "positive_dir = Path('../input/surface-crack-detection/Positive')\n",
    "negative_dir = Path('../input/surface-crack-detection/Negative')"
   ]
  },
  {
   "cell_type": "code",
   "execution_count": 3,
   "id": "dcc080da",
   "metadata": {
    "execution": {
     "iopub.execute_input": "2021-08-21T11:45:38.590457Z",
     "iopub.status.busy": "2021-08-21T11:45:38.589935Z",
     "iopub.status.idle": "2021-08-21T11:45:38.591739Z",
     "shell.execute_reply": "2021-08-21T11:45:38.592217Z",
     "shell.execute_reply.started": "2021-08-21T11:45:05.402714Z"
    },
    "papermill": {
     "duration": 0.010053,
     "end_time": "2021-08-21T11:45:38.592336",
     "exception": false,
     "start_time": "2021-08-21T11:45:38.582283",
     "status": "completed"
    },
    "tags": []
   },
   "outputs": [],
   "source": [
    "# creating the data frame\n",
    "def generate_df(image_dir, label):\n",
    "    filepaths = pd.Series(list(image_dir.glob(r'*.jpg')), name='Filepath').astype(str)\n",
    "    labels = pd.Series(label, name='Label', index=filepaths.index)\n",
    "    df = pd.concat([filepaths, labels], axis=1)\n",
    "    return df"
   ]
  }
 ],
 "metadata": {
  "kernelspec": {
   "display_name": "Python 3",
   "language": "python",
   "name": "python3"
  },
  "language_info": {
   "codemirror_mode": {
    "name": "ipython",
    "version": 3
   },
   "file_extension": ".py",
   "mimetype": "text/x-python",
   "name": "python",
   "nbconvert_exporter": "python",
   "pygments_lexer": "ipython3",
   "version": "3.7.10"
  },
  "papermill": {
   "default_parameters": {},
   "duration": 16.707078,
   "end_time": "2021-08-21T11:45:40.678935",
   "environment_variables": {},
   "exception": null,
   "input_path": "__notebook__.ipynb",
   "output_path": "__notebook__.ipynb",
   "parameters": {},
   "start_time": "2021-08-21T11:45:23.971857",
   "version": "2.3.3"
  }
 },
 "nbformat": 4,
 "nbformat_minor": 5
}
