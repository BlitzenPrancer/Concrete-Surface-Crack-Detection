{
 "cells": [
  {
   "cell_type": "code",
   "execution_count": 1,
   "id": "46d47040",
   "metadata": {
    "_cell_guid": "b1076dfc-b9ad-4769-8c92-a6c4dae69d19",
    "_uuid": "8f2839f25d086af736a60e9eeb907d3b93b6e0e5",
    "execution": {
     "iopub.execute_input": "2021-08-21T12:09:00.696356Z",
     "iopub.status.busy": "2021-08-21T12:09:00.695294Z",
     "iopub.status.idle": "2021-08-21T12:09:08.751218Z",
     "shell.execute_reply": "2021-08-21T12:09:08.750581Z",
     "shell.execute_reply.started": "2021-08-21T12:08:15.322185Z"
    },
    "papermill": {
     "duration": 8.067997,
     "end_time": "2021-08-21T12:09:08.751393",
     "exception": false,
     "start_time": "2021-08-21T12:09:00.683396",
     "status": "completed"
    },
    "tags": []
   },
   "outputs": [],
   "source": [
    "# i am importing numpy and pands for working with data\n",
    "import numpy as np\n",
    "import pandas as pd\n",
    "\n",
    "# for visualisation\n",
    "import matplotlib.pyplot as plt\n",
    "import seaborn as sns\n",
    "import plotly.express as px\n",
    "\n",
    "# for preprocessing\n",
    "from pathlib import Path\n",
    "from sklearn.model_selection import train_test_split\n",
    "\n",
    "# i'll get my model up and running with tensorflow\n",
    "import tensorflow as tf\n",
    "\n",
    "# evaluating the performance using sklearn\n",
    "from sklearn.metrics import confusion_matrix, classification_report"
   ]
  },
  {
   "cell_type": "code",
   "execution_count": 2,
   "id": "673aa89b",
   "metadata": {
    "execution": {
     "iopub.execute_input": "2021-08-21T12:09:08.772955Z",
     "iopub.status.busy": "2021-08-21T12:09:08.772296Z",
     "iopub.status.idle": "2021-08-21T12:09:08.774129Z",
     "shell.execute_reply": "2021-08-21T12:09:08.774560Z",
     "shell.execute_reply.started": "2021-08-21T12:08:15.328979Z"
    },
    "papermill": {
     "duration": 0.013607,
     "end_time": "2021-08-21T12:09:08.774741",
     "exception": false,
     "start_time": "2021-08-21T12:09:08.761134",
     "status": "completed"
    },
    "tags": []
   },
   "outputs": [],
   "source": [
    "# using flow from data frame\n",
    "positive_dir = Path('../input/surface-crack-detection/Positive')\n",
    "negative_dir = Path('../input/surface-crack-detection/Negative')"
   ]
  },
  {
   "cell_type": "code",
   "execution_count": 3,
   "id": "c458871e",
   "metadata": {
    "execution": {
     "iopub.execute_input": "2021-08-21T12:09:08.792194Z",
     "iopub.status.busy": "2021-08-21T12:09:08.791580Z",
     "iopub.status.idle": "2021-08-21T12:09:08.797142Z",
     "shell.execute_reply": "2021-08-21T12:09:08.796587Z",
     "shell.execute_reply.started": "2021-08-21T12:08:15.343006Z"
    },
    "papermill": {
     "duration": 0.015201,
     "end_time": "2021-08-21T12:09:08.797278",
     "exception": false,
     "start_time": "2021-08-21T12:09:08.782077",
     "status": "completed"
    },
    "tags": []
   },
   "outputs": [],
   "source": [
    "# creating the data frame\n",
    "def generate_df(image_dir, label):\n",
    "    filepaths = pd.Series(list(image_dir.glob(r'*.jpg')), name='Filepath').astype(str)\n",
    "    labels = pd.Series(label, name='Label', index=filepaths.index)\n",
    "    df = pd.concat([filepaths, labels], axis=1)\n",
    "    return df"
   ]
  },
  {
   "cell_type": "code",
   "execution_count": 4,
   "id": "6e03c790",
   "metadata": {
    "execution": {
     "iopub.execute_input": "2021-08-21T12:09:08.817183Z",
     "iopub.status.busy": "2021-08-21T12:09:08.816516Z",
     "iopub.status.idle": "2021-08-21T12:09:09.656675Z",
     "shell.execute_reply": "2021-08-21T12:09:09.655942Z",
     "shell.execute_reply.started": "2021-08-21T12:08:15.354550Z"
    },
    "papermill": {
     "duration": 0.852323,
     "end_time": "2021-08-21T12:09:09.656865",
     "exception": false,
     "start_time": "2021-08-21T12:09:08.804542",
     "status": "completed"
    },
    "tags": []
   },
   "outputs": [
    {
     "name": "stdout",
     "output_type": "stream",
     "text": [
      "                                                Filepath     Label\n",
      "0      ../input/surface-crack-detection/Positive/0574...  POSITIVE\n",
      "1      ../input/surface-crack-detection/Positive/1870...  POSITIVE\n",
      "2      ../input/surface-crack-detection/Positive/0967...  POSITIVE\n",
      "3      ../input/surface-crack-detection/Negative/0791...  NEGATIVE\n",
      "4      ../input/surface-crack-detection/Positive/1400...  POSITIVE\n",
      "...                                                  ...       ...\n",
      "39995  ../input/surface-crack-detection/Positive/0854...  POSITIVE\n",
      "39996  ../input/surface-crack-detection/Negative/1944...  NEGATIVE\n",
      "39997  ../input/surface-crack-detection/Positive/0977...  POSITIVE\n",
      "39998  ../input/surface-crack-detection/Positive/1504...  POSITIVE\n",
      "39999  ../input/surface-crack-detection/Negative/1099...  NEGATIVE\n",
      "\n",
      "[40000 rows x 2 columns]\n"
     ]
    }
   ],
   "source": [
    "positive_df = generate_df(positive_dir, label=\"POSITIVE\")\n",
    "negative_df = generate_df(negative_dir, label=\"NEGATIVE\")\n",
    "\n",
    "all_df = pd.concat([positive_df, negative_df], axis=0).sample(frac=1.0, random_state=1).reset_index(drop=True)\n",
    "print(all_df)"
   ]
  },
  {
   "cell_type": "code",
   "execution_count": 5,
   "id": "e3314405",
   "metadata": {
    "execution": {
     "iopub.execute_input": "2021-08-21T12:09:09.680583Z",
     "iopub.status.busy": "2021-08-21T12:09:09.679354Z",
     "iopub.status.idle": "2021-08-21T12:09:09.685337Z",
     "shell.execute_reply": "2021-08-21T12:09:09.685749Z",
     "shell.execute_reply.started": "2021-08-21T12:08:15.628825Z"
    },
    "papermill": {
     "duration": 0.020379,
     "end_time": "2021-08-21T12:09:09.685913",
     "exception": false,
     "start_time": "2021-08-21T12:09:09.665534",
     "status": "completed"
    },
    "tags": []
   },
   "outputs": [],
   "source": [
    "# doing the train test split from sklearn\n",
    "train_df, test_df = train_test_split(\n",
    "    all_df.sample(6000, random_state=1),\n",
    "    train_size=0.7,\n",
    "    shuffle=True,\n",
    "    random_state=1\n",
    ")"
   ]
  },
  {
   "cell_type": "code",
   "execution_count": 6,
   "id": "04e15dbe",
   "metadata": {
    "execution": {
     "iopub.execute_input": "2021-08-21T12:09:09.704736Z",
     "iopub.status.busy": "2021-08-21T12:09:09.703819Z",
     "iopub.status.idle": "2021-08-21T12:09:09.722390Z",
     "shell.execute_reply": "2021-08-21T12:09:09.721857Z",
     "shell.execute_reply.started": "2021-08-21T12:08:15.639164Z"
    },
    "papermill": {
     "duration": 0.028803,
     "end_time": "2021-08-21T12:09:09.722527",
     "exception": false,
     "start_time": "2021-08-21T12:09:09.693724",
     "status": "completed"
    },
    "tags": []
   },
   "outputs": [
    {
     "data": {
      "text/html": [
       "<div>\n",
       "<style scoped>\n",
       "    .dataframe tbody tr th:only-of-type {\n",
       "        vertical-align: middle;\n",
       "    }\n",
       "\n",
       "    .dataframe tbody tr th {\n",
       "        vertical-align: top;\n",
       "    }\n",
       "\n",
       "    .dataframe thead th {\n",
       "        text-align: right;\n",
       "    }\n",
       "</style>\n",
       "<table border=\"1\" class=\"dataframe\">\n",
       "  <thead>\n",
       "    <tr style=\"text-align: right;\">\n",
       "      <th></th>\n",
       "      <th>Filepath</th>\n",
       "      <th>Label</th>\n",
       "    </tr>\n",
       "  </thead>\n",
       "  <tbody>\n",
       "    <tr>\n",
       "      <th>30189</th>\n",
       "      <td>../input/surface-crack-detection/Negative/1208...</td>\n",
       "      <td>NEGATIVE</td>\n",
       "    </tr>\n",
       "    <tr>\n",
       "      <th>8931</th>\n",
       "      <td>../input/surface-crack-detection/Negative/0385...</td>\n",
       "      <td>NEGATIVE</td>\n",
       "    </tr>\n",
       "    <tr>\n",
       "      <th>29084</th>\n",
       "      <td>../input/surface-crack-detection/Positive/0641...</td>\n",
       "      <td>POSITIVE</td>\n",
       "    </tr>\n",
       "    <tr>\n",
       "      <th>29189</th>\n",
       "      <td>../input/surface-crack-detection/Negative/1611...</td>\n",
       "      <td>NEGATIVE</td>\n",
       "    </tr>\n",
       "    <tr>\n",
       "      <th>2645</th>\n",
       "      <td>../input/surface-crack-detection/Negative/1833...</td>\n",
       "      <td>NEGATIVE</td>\n",
       "    </tr>\n",
       "    <tr>\n",
       "      <th>...</th>\n",
       "      <td>...</td>\n",
       "      <td>...</td>\n",
       "    </tr>\n",
       "    <tr>\n",
       "      <th>2090</th>\n",
       "      <td>../input/surface-crack-detection/Positive/0836...</td>\n",
       "      <td>POSITIVE</td>\n",
       "    </tr>\n",
       "    <tr>\n",
       "      <th>35101</th>\n",
       "      <td>../input/surface-crack-detection/Positive/1839...</td>\n",
       "      <td>POSITIVE</td>\n",
       "    </tr>\n",
       "    <tr>\n",
       "      <th>8720</th>\n",
       "      <td>../input/surface-crack-detection/Positive/0939...</td>\n",
       "      <td>POSITIVE</td>\n",
       "    </tr>\n",
       "    <tr>\n",
       "      <th>9955</th>\n",
       "      <td>../input/surface-crack-detection/Positive/0140...</td>\n",
       "      <td>POSITIVE</td>\n",
       "    </tr>\n",
       "    <tr>\n",
       "      <th>24438</th>\n",
       "      <td>../input/surface-crack-detection/Negative/0707...</td>\n",
       "      <td>NEGATIVE</td>\n",
       "    </tr>\n",
       "  </tbody>\n",
       "</table>\n",
       "<p>4200 rows × 2 columns</p>\n",
       "</div>"
      ],
      "text/plain": [
       "                                                Filepath     Label\n",
       "30189  ../input/surface-crack-detection/Negative/1208...  NEGATIVE\n",
       "8931   ../input/surface-crack-detection/Negative/0385...  NEGATIVE\n",
       "29084  ../input/surface-crack-detection/Positive/0641...  POSITIVE\n",
       "29189  ../input/surface-crack-detection/Negative/1611...  NEGATIVE\n",
       "2645   ../input/surface-crack-detection/Negative/1833...  NEGATIVE\n",
       "...                                                  ...       ...\n",
       "2090   ../input/surface-crack-detection/Positive/0836...  POSITIVE\n",
       "35101  ../input/surface-crack-detection/Positive/1839...  POSITIVE\n",
       "8720   ../input/surface-crack-detection/Positive/0939...  POSITIVE\n",
       "9955   ../input/surface-crack-detection/Positive/0140...  POSITIVE\n",
       "24438  ../input/surface-crack-detection/Negative/0707...  NEGATIVE\n",
       "\n",
       "[4200 rows x 2 columns]"
      ]
     },
     "execution_count": 6,
     "metadata": {},
     "output_type": "execute_result"
    }
   ],
   "source": [
    "train_df"
   ]
  },
  {
   "cell_type": "code",
   "execution_count": 7,
   "id": "a4ec84d4",
   "metadata": {
    "execution": {
     "iopub.execute_input": "2021-08-21T12:09:09.750900Z",
     "iopub.status.busy": "2021-08-21T12:09:09.750045Z",
     "iopub.status.idle": "2021-08-21T12:09:09.754075Z",
     "shell.execute_reply": "2021-08-21T12:09:09.753453Z",
     "shell.execute_reply.started": "2021-08-21T12:08:15.658347Z"
    },
    "papermill": {
     "duration": 0.023472,
     "end_time": "2021-08-21T12:09:09.754216",
     "exception": false,
     "start_time": "2021-08-21T12:09:09.730744",
     "status": "completed"
    },
    "tags": []
   },
   "outputs": [
    {
     "data": {
      "text/html": [
       "<div>\n",
       "<style scoped>\n",
       "    .dataframe tbody tr th:only-of-type {\n",
       "        vertical-align: middle;\n",
       "    }\n",
       "\n",
       "    .dataframe tbody tr th {\n",
       "        vertical-align: top;\n",
       "    }\n",
       "\n",
       "    .dataframe thead th {\n",
       "        text-align: right;\n",
       "    }\n",
       "</style>\n",
       "<table border=\"1\" class=\"dataframe\">\n",
       "  <thead>\n",
       "    <tr style=\"text-align: right;\">\n",
       "      <th></th>\n",
       "      <th>Filepath</th>\n",
       "      <th>Label</th>\n",
       "    </tr>\n",
       "  </thead>\n",
       "  <tbody>\n",
       "    <tr>\n",
       "      <th>15731</th>\n",
       "      <td>../input/surface-crack-detection/Negative/0694...</td>\n",
       "      <td>NEGATIVE</td>\n",
       "    </tr>\n",
       "    <tr>\n",
       "      <th>34272</th>\n",
       "      <td>../input/surface-crack-detection/Negative/0744...</td>\n",
       "      <td>NEGATIVE</td>\n",
       "    </tr>\n",
       "    <tr>\n",
       "      <th>39532</th>\n",
       "      <td>../input/surface-crack-detection/Positive/0052...</td>\n",
       "      <td>POSITIVE</td>\n",
       "    </tr>\n",
       "    <tr>\n",
       "      <th>10818</th>\n",
       "      <td>../input/surface-crack-detection/Positive/0208...</td>\n",
       "      <td>POSITIVE</td>\n",
       "    </tr>\n",
       "    <tr>\n",
       "      <th>35421</th>\n",
       "      <td>../input/surface-crack-detection/Negative/0618...</td>\n",
       "      <td>NEGATIVE</td>\n",
       "    </tr>\n",
       "    <tr>\n",
       "      <th>...</th>\n",
       "      <td>...</td>\n",
       "      <td>...</td>\n",
       "    </tr>\n",
       "    <tr>\n",
       "      <th>7174</th>\n",
       "      <td>../input/surface-crack-detection/Positive/1625...</td>\n",
       "      <td>POSITIVE</td>\n",
       "    </tr>\n",
       "    <tr>\n",
       "      <th>27207</th>\n",
       "      <td>../input/surface-crack-detection/Negative/0607...</td>\n",
       "      <td>NEGATIVE</td>\n",
       "    </tr>\n",
       "    <tr>\n",
       "      <th>28566</th>\n",
       "      <td>../input/surface-crack-detection/Negative/1254...</td>\n",
       "      <td>NEGATIVE</td>\n",
       "    </tr>\n",
       "    <tr>\n",
       "      <th>20688</th>\n",
       "      <td>../input/surface-crack-detection/Positive/0636...</td>\n",
       "      <td>POSITIVE</td>\n",
       "    </tr>\n",
       "    <tr>\n",
       "      <th>20371</th>\n",
       "      <td>../input/surface-crack-detection/Positive/1282...</td>\n",
       "      <td>POSITIVE</td>\n",
       "    </tr>\n",
       "  </tbody>\n",
       "</table>\n",
       "<p>1800 rows × 2 columns</p>\n",
       "</div>"
      ],
      "text/plain": [
       "                                                Filepath     Label\n",
       "15731  ../input/surface-crack-detection/Negative/0694...  NEGATIVE\n",
       "34272  ../input/surface-crack-detection/Negative/0744...  NEGATIVE\n",
       "39532  ../input/surface-crack-detection/Positive/0052...  POSITIVE\n",
       "10818  ../input/surface-crack-detection/Positive/0208...  POSITIVE\n",
       "35421  ../input/surface-crack-detection/Negative/0618...  NEGATIVE\n",
       "...                                                  ...       ...\n",
       "7174   ../input/surface-crack-detection/Positive/1625...  POSITIVE\n",
       "27207  ../input/surface-crack-detection/Negative/0607...  NEGATIVE\n",
       "28566  ../input/surface-crack-detection/Negative/1254...  NEGATIVE\n",
       "20688  ../input/surface-crack-detection/Positive/0636...  POSITIVE\n",
       "20371  ../input/surface-crack-detection/Positive/1282...  POSITIVE\n",
       "\n",
       "[1800 rows x 2 columns]"
      ]
     },
     "execution_count": 7,
     "metadata": {},
     "output_type": "execute_result"
    }
   ],
   "source": [
    "test_df"
   ]
  },
  {
   "cell_type": "code",
   "execution_count": 8,
   "id": "12f286df",
   "metadata": {
    "execution": {
     "iopub.execute_input": "2021-08-21T12:09:09.773655Z",
     "iopub.status.busy": "2021-08-21T12:09:09.773109Z",
     "iopub.status.idle": "2021-08-21T12:09:09.778657Z",
     "shell.execute_reply": "2021-08-21T12:09:09.778221Z",
     "shell.execute_reply.started": "2021-08-21T12:08:15.677446Z"
    },
    "papermill": {
     "duration": 0.016212,
     "end_time": "2021-08-21T12:09:09.778818",
     "exception": false,
     "start_time": "2021-08-21T12:09:09.762606",
     "status": "completed"
    },
    "tags": []
   },
   "outputs": [],
   "source": [
    "# loading the image data\n",
    "train_gen = tf.keras.preprocessing.image.ImageDataGenerator(\n",
    "    # rescaling it because I want to make sure that the actual image data is comming between values 0 and 1\n",
    "    rescale=1./255,\n",
    "    validation_split=0.2\n",
    ")\n",
    "\n",
    "test_gen = tf.keras.preprocessing.image.ImageDataGenerator(\n",
    "    rescale=1./255\n",
    ")"
   ]
  },
  {
   "cell_type": "code",
   "execution_count": 9,
   "id": "2dee4d11",
   "metadata": {
    "execution": {
     "iopub.execute_input": "2021-08-21T12:09:09.815890Z",
     "iopub.status.busy": "2021-08-21T12:09:09.815255Z",
     "iopub.status.idle": "2021-08-21T12:09:30.895316Z",
     "shell.execute_reply": "2021-08-21T12:09:30.894456Z",
     "shell.execute_reply.started": "2021-08-21T12:08:15.688386Z"
    },
    "papermill": {
     "duration": 21.108322,
     "end_time": "2021-08-21T12:09:30.895500",
     "exception": false,
     "start_time": "2021-08-21T12:09:09.787178",
     "status": "completed"
    },
    "tags": []
   },
   "outputs": [
    {
     "name": "stdout",
     "output_type": "stream",
     "text": [
      "Found 3360 validated image filenames belonging to 2 classes.\n",
      "Found 840 validated image filenames belonging to 2 classes.\n",
      "Found 1800 validated image filenames belonging to 2 classes.\n"
     ]
    }
   ],
   "source": [
    "# flowing data from the data frames\n",
    "train_data = train_gen.flow_from_dataframe(\n",
    "    train_df,\n",
    "    # specifying which column is used as a filepath and which column is used as labels\n",
    "    x_col='Filepath',\n",
    "    y_col='Label',\n",
    "    target_size=(120, 120),\n",
    "    color_mode='rgb',\n",
    "    class_mode='binary',\n",
    "    batch_size=32,\n",
    "    shuffle=True,\n",
    "    seed=42,\n",
    "    subset='training'\n",
    ")\n",
    "\n",
    "val_data = train_gen.flow_from_dataframe(\n",
    "    train_df,\n",
    "    x_col='Filepath',\n",
    "    y_col='Label',\n",
    "    target_size=(120, 120),\n",
    "    color_mode='rgb',\n",
    "    class_mode='binary',\n",
    "    batch_size=32,\n",
    "    shuffle=True,\n",
    "    seed=42,\n",
    "    subset='validation'\n",
    ")\n",
    "\n",
    "test_data = train_gen.flow_from_dataframe(\n",
    "    test_df,\n",
    "    x_col='Filepath',\n",
    "    y_col='Label',\n",
    "    target_size=(120, 120),\n",
    "    color_mode='rgb',\n",
    "    class_mode='binary',\n",
    "    batch_size=32,\n",
    "    shuffle=False,\n",
    "    seed=42\n",
    ")"
   ]
  },
  {
   "cell_type": "code",
   "execution_count": 10,
   "id": "4393ebd9",
   "metadata": {
    "execution": {
     "iopub.execute_input": "2021-08-21T12:09:30.922102Z",
     "iopub.status.busy": "2021-08-21T12:09:30.921412Z",
     "iopub.status.idle": "2021-08-21T12:09:31.047904Z",
     "shell.execute_reply": "2021-08-21T12:09:31.049112Z",
     "shell.execute_reply.started": "2021-08-21T12:08:18.152020Z"
    },
    "papermill": {
     "duration": 0.143462,
     "end_time": "2021-08-21T12:09:31.049396",
     "exception": false,
     "start_time": "2021-08-21T12:09:30.905934",
     "status": "completed"
    },
    "tags": []
   },
   "outputs": [
    {
     "name": "stdout",
     "output_type": "stream",
     "text": [
      "Model: \"model\"\n",
      "_________________________________________________________________\n",
      "Layer (type)                 Output Shape              Param #   \n",
      "=================================================================\n",
      "input_1 (InputLayer)         [(None, 120, 120, 3)]     0         \n",
      "_________________________________________________________________\n",
      "conv2d (Conv2D)              (None, 118, 118, 16)      448       \n",
      "_________________________________________________________________\n",
      "max_pooling2d (MaxPooling2D) (None, 59, 59, 16)        0         \n",
      "_________________________________________________________________\n",
      "conv2d_1 (Conv2D)            (None, 57, 57, 32)        4640      \n",
      "_________________________________________________________________\n",
      "max_pooling2d_1 (MaxPooling2 (None, 28, 28, 32)        0         \n",
      "_________________________________________________________________\n",
      "global_average_pooling2d (Gl (None, 32)                0         \n",
      "_________________________________________________________________\n",
      "dense (Dense)                (None, 1)                 33        \n",
      "=================================================================\n",
      "Total params: 5,121\n",
      "Trainable params: 5,121\n",
      "Non-trainable params: 0\n",
      "_________________________________________________________________\n",
      "None\n"
     ]
    }
   ],
   "source": [
    "# training part\n",
    "inputs = tf.keras.Input(shape=(120, 120, 3))\n",
    "x = tf.keras.layers.Conv2D(filters=16, kernel_size=(3, 3), activation='relu')(inputs)\n",
    "x = tf.keras.layers.MaxPool2D(pool_size=(2, 2))(x)\n",
    "x = tf.keras.layers.Conv2D(filters=32, kernel_size=(3, 3), activation='relu')(x)\n",
    "x = tf.keras.layers.MaxPool2D(pool_size=(2, 2))(x)\n",
    "x = tf.keras.layers.GlobalAveragePooling2D()(x)\n",
    "outputs = tf.keras.layers.Dense(1, activation='sigmoid')(x)\n",
    "\n",
    "model = tf.keras.Model(inputs=inputs, outputs=outputs)\n",
    "\n",
    "model.compile(\n",
    "    optimizer='adam',\n",
    "    loss='binary_crossentropy',\n",
    "    metrics=['accuracy']\n",
    ")\n",
    "\n",
    "print(model.summary())"
   ]
  }
 ],
 "metadata": {
  "kernelspec": {
   "display_name": "Python 3",
   "language": "python",
   "name": "python3"
  },
  "language_info": {
   "codemirror_mode": {
    "name": "ipython",
    "version": 3
   },
   "file_extension": ".py",
   "mimetype": "text/x-python",
   "name": "python",
   "nbconvert_exporter": "python",
   "pygments_lexer": "ipython3",
   "version": "3.7.10"
  },
  "papermill": {
   "default_parameters": {},
   "duration": 39.816602,
   "end_time": "2021-08-21T12:09:33.103980",
   "environment_variables": {},
   "exception": null,
   "input_path": "__notebook__.ipynb",
   "output_path": "__notebook__.ipynb",
   "parameters": {},
   "start_time": "2021-08-21T12:08:53.287378",
   "version": "2.3.3"
  }
 },
 "nbformat": 4,
 "nbformat_minor": 5
}
