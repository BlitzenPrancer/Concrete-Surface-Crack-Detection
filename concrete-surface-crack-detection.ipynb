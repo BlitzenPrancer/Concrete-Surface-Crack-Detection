{
 "cells": [
  {
   "cell_type": "code",
   "execution_count": 1,
   "id": "9dcb2907",
   "metadata": {
    "_cell_guid": "b1076dfc-b9ad-4769-8c92-a6c4dae69d19",
    "_uuid": "8f2839f25d086af736a60e9eeb907d3b93b6e0e5",
    "execution": {
     "iopub.execute_input": "2021-08-21T11:52:11.954315Z",
     "iopub.status.busy": "2021-08-21T11:52:11.953451Z",
     "iopub.status.idle": "2021-08-21T11:52:20.596972Z",
     "shell.execute_reply": "2021-08-21T11:52:20.596438Z",
     "shell.execute_reply.started": "2021-08-21T11:44:35.383243Z"
    },
    "papermill": {
     "duration": 8.654797,
     "end_time": "2021-08-21T11:52:20.597099",
     "exception": false,
     "start_time": "2021-08-21T11:52:11.942302",
     "status": "completed"
    },
    "tags": []
   },
   "outputs": [],
   "source": [
    "# i am importing numpy and pands for working with data\n",
    "import numpy as np\n",
    "import pandas as pd\n",
    "\n",
    "# for visualisation\n",
    "import matplotlib.pyplot as plt\n",
    "import seaborn as sns\n",
    "import plotly.express as px\n",
    "\n",
    "# for preprocessing\n",
    "from pathlib import Path\n",
    "from sklearn.model_selection import train_test_split\n",
    "\n",
    "# i'll get my model up and running with tensorflow\n",
    "import tensorflow as tf\n",
    "\n",
    "# evaluating the performance using sklearn\n",
    "from sklearn.metrics import confusion_matrix, classification_report"
   ]
  },
  {
   "cell_type": "code",
   "execution_count": 2,
   "id": "dd83baa9",
   "metadata": {
    "execution": {
     "iopub.execute_input": "2021-08-21T11:52:20.616420Z",
     "iopub.status.busy": "2021-08-21T11:52:20.614322Z",
     "iopub.status.idle": "2021-08-21T11:52:20.618828Z",
     "shell.execute_reply": "2021-08-21T11:52:20.619197Z",
     "shell.execute_reply.started": "2021-08-21T11:44:51.603333Z"
    },
    "papermill": {
     "duration": 0.014822,
     "end_time": "2021-08-21T11:52:20.619353",
     "exception": false,
     "start_time": "2021-08-21T11:52:20.604531",
     "status": "completed"
    },
    "tags": []
   },
   "outputs": [],
   "source": [
    "# using flow from data frame\n",
    "positive_dir = Path('../input/surface-crack-detection/Positive')\n",
    "negative_dir = Path('../input/surface-crack-detection/Negative')"
   ]
  },
  {
   "cell_type": "code",
   "execution_count": 3,
   "id": "d4c34e3f",
   "metadata": {
    "execution": {
     "iopub.execute_input": "2021-08-21T11:52:20.637291Z",
     "iopub.status.busy": "2021-08-21T11:52:20.636647Z",
     "iopub.status.idle": "2021-08-21T11:52:20.642287Z",
     "shell.execute_reply": "2021-08-21T11:52:20.642702Z",
     "shell.execute_reply.started": "2021-08-21T11:45:05.402714Z"
    },
    "papermill": {
     "duration": 0.016292,
     "end_time": "2021-08-21T11:52:20.642864",
     "exception": false,
     "start_time": "2021-08-21T11:52:20.626572",
     "status": "completed"
    },
    "tags": []
   },
   "outputs": [],
   "source": [
    "# creating the data frame\n",
    "def generate_df(image_dir, label):\n",
    "    filepaths = pd.Series(list(image_dir.glob(r'*.jpg')), name='Filepath').astype(str)\n",
    "    labels = pd.Series(label, name='Label', index=filepaths.index)\n",
    "    df = pd.concat([filepaths, labels], axis=1)\n",
    "    return df"
   ]
  },
  {
   "cell_type": "code",
   "execution_count": 4,
   "id": "a3f73960",
   "metadata": {
    "execution": {
     "iopub.execute_input": "2021-08-21T11:52:20.660571Z",
     "iopub.status.busy": "2021-08-21T11:52:20.660052Z",
     "iopub.status.idle": "2021-08-21T11:52:22.118573Z",
     "shell.execute_reply": "2021-08-21T11:52:22.119040Z",
     "shell.execute_reply.started": "2021-08-21T11:47:16.682276Z"
    },
    "papermill": {
     "duration": 1.468989,
     "end_time": "2021-08-21T11:52:22.119191",
     "exception": false,
     "start_time": "2021-08-21T11:52:20.650202",
     "status": "completed"
    },
    "tags": []
   },
   "outputs": [
    {
     "name": "stdout",
     "output_type": "stream",
     "text": [
      "                                                Filepath     Label\n",
      "0      ../input/surface-crack-detection/Positive/0574...  POSITIVE\n",
      "1      ../input/surface-crack-detection/Positive/1870...  POSITIVE\n",
      "2      ../input/surface-crack-detection/Positive/0967...  POSITIVE\n",
      "3      ../input/surface-crack-detection/Negative/0791...  NEGATIVE\n",
      "4      ../input/surface-crack-detection/Positive/1400...  POSITIVE\n",
      "...                                                  ...       ...\n",
      "39995  ../input/surface-crack-detection/Positive/0854...  POSITIVE\n",
      "39996  ../input/surface-crack-detection/Negative/1944...  NEGATIVE\n",
      "39997  ../input/surface-crack-detection/Positive/0977...  POSITIVE\n",
      "39998  ../input/surface-crack-detection/Positive/1504...  POSITIVE\n",
      "39999  ../input/surface-crack-detection/Negative/1099...  NEGATIVE\n",
      "\n",
      "[40000 rows x 2 columns]\n"
     ]
    }
   ],
   "source": [
    "positive_df = generate_df(positive_dir, label=\"POSITIVE\")\n",
    "negative_df = generate_df(negative_dir, label=\"NEGATIVE\")\n",
    "\n",
    "all_df = pd.concat([positive_df, negative_df], axis=0).sample(frac=1.0, random_state=1).reset_index(drop=True)\n",
    "print(all_df)"
   ]
  },
  {
   "cell_type": "code",
   "execution_count": 5,
   "id": "a4e73587",
   "metadata": {
    "execution": {
     "iopub.execute_input": "2021-08-21T11:52:22.138632Z",
     "iopub.status.busy": "2021-08-21T11:52:22.137964Z",
     "iopub.status.idle": "2021-08-21T11:52:22.146386Z",
     "shell.execute_reply": "2021-08-21T11:52:22.145786Z",
     "shell.execute_reply.started": "2021-08-21T11:47:39.691173Z"
    },
    "papermill": {
     "duration": 0.019685,
     "end_time": "2021-08-21T11:52:22.146543",
     "exception": false,
     "start_time": "2021-08-21T11:52:22.126858",
     "status": "completed"
    },
    "tags": []
   },
   "outputs": [],
   "source": [
    "# doing the train test split from sklearn\n",
    "train_df, test_df = train_test_split(\n",
    "    all_df.sample(6000, random_state=1),\n",
    "    train_size=0.7,\n",
    "    shuffle=True,\n",
    "    random_state=1\n",
    ")"
   ]
  },
  {
   "cell_type": "code",
   "execution_count": 6,
   "id": "a315da4d",
   "metadata": {
    "execution": {
     "iopub.execute_input": "2021-08-21T11:52:22.171300Z",
     "iopub.status.busy": "2021-08-21T11:52:22.170799Z",
     "iopub.status.idle": "2021-08-21T11:52:22.189888Z",
     "shell.execute_reply": "2021-08-21T11:52:22.190273Z",
     "shell.execute_reply.started": "2021-08-21T11:47:54.602397Z"
    },
    "papermill": {
     "duration": 0.032976,
     "end_time": "2021-08-21T11:52:22.190426",
     "exception": false,
     "start_time": "2021-08-21T11:52:22.157450",
     "status": "completed"
    },
    "tags": []
   },
   "outputs": [
    {
     "data": {
      "text/html": [
       "<div>\n",
       "<style scoped>\n",
       "    .dataframe tbody tr th:only-of-type {\n",
       "        vertical-align: middle;\n",
       "    }\n",
       "\n",
       "    .dataframe tbody tr th {\n",
       "        vertical-align: top;\n",
       "    }\n",
       "\n",
       "    .dataframe thead th {\n",
       "        text-align: right;\n",
       "    }\n",
       "</style>\n",
       "<table border=\"1\" class=\"dataframe\">\n",
       "  <thead>\n",
       "    <tr style=\"text-align: right;\">\n",
       "      <th></th>\n",
       "      <th>Filepath</th>\n",
       "      <th>Label</th>\n",
       "    </tr>\n",
       "  </thead>\n",
       "  <tbody>\n",
       "    <tr>\n",
       "      <th>30189</th>\n",
       "      <td>../input/surface-crack-detection/Negative/1208...</td>\n",
       "      <td>NEGATIVE</td>\n",
       "    </tr>\n",
       "    <tr>\n",
       "      <th>8931</th>\n",
       "      <td>../input/surface-crack-detection/Negative/0385...</td>\n",
       "      <td>NEGATIVE</td>\n",
       "    </tr>\n",
       "    <tr>\n",
       "      <th>29084</th>\n",
       "      <td>../input/surface-crack-detection/Positive/0641...</td>\n",
       "      <td>POSITIVE</td>\n",
       "    </tr>\n",
       "    <tr>\n",
       "      <th>29189</th>\n",
       "      <td>../input/surface-crack-detection/Negative/1611...</td>\n",
       "      <td>NEGATIVE</td>\n",
       "    </tr>\n",
       "    <tr>\n",
       "      <th>2645</th>\n",
       "      <td>../input/surface-crack-detection/Negative/1833...</td>\n",
       "      <td>NEGATIVE</td>\n",
       "    </tr>\n",
       "    <tr>\n",
       "      <th>...</th>\n",
       "      <td>...</td>\n",
       "      <td>...</td>\n",
       "    </tr>\n",
       "    <tr>\n",
       "      <th>2090</th>\n",
       "      <td>../input/surface-crack-detection/Positive/0836...</td>\n",
       "      <td>POSITIVE</td>\n",
       "    </tr>\n",
       "    <tr>\n",
       "      <th>35101</th>\n",
       "      <td>../input/surface-crack-detection/Positive/1839...</td>\n",
       "      <td>POSITIVE</td>\n",
       "    </tr>\n",
       "    <tr>\n",
       "      <th>8720</th>\n",
       "      <td>../input/surface-crack-detection/Positive/0939...</td>\n",
       "      <td>POSITIVE</td>\n",
       "    </tr>\n",
       "    <tr>\n",
       "      <th>9955</th>\n",
       "      <td>../input/surface-crack-detection/Positive/0140...</td>\n",
       "      <td>POSITIVE</td>\n",
       "    </tr>\n",
       "    <tr>\n",
       "      <th>24438</th>\n",
       "      <td>../input/surface-crack-detection/Negative/0707...</td>\n",
       "      <td>NEGATIVE</td>\n",
       "    </tr>\n",
       "  </tbody>\n",
       "</table>\n",
       "<p>4200 rows × 2 columns</p>\n",
       "</div>"
      ],
      "text/plain": [
       "                                                Filepath     Label\n",
       "30189  ../input/surface-crack-detection/Negative/1208...  NEGATIVE\n",
       "8931   ../input/surface-crack-detection/Negative/0385...  NEGATIVE\n",
       "29084  ../input/surface-crack-detection/Positive/0641...  POSITIVE\n",
       "29189  ../input/surface-crack-detection/Negative/1611...  NEGATIVE\n",
       "2645   ../input/surface-crack-detection/Negative/1833...  NEGATIVE\n",
       "...                                                  ...       ...\n",
       "2090   ../input/surface-crack-detection/Positive/0836...  POSITIVE\n",
       "35101  ../input/surface-crack-detection/Positive/1839...  POSITIVE\n",
       "8720   ../input/surface-crack-detection/Positive/0939...  POSITIVE\n",
       "9955   ../input/surface-crack-detection/Positive/0140...  POSITIVE\n",
       "24438  ../input/surface-crack-detection/Negative/0707...  NEGATIVE\n",
       "\n",
       "[4200 rows x 2 columns]"
      ]
     },
     "execution_count": 6,
     "metadata": {},
     "output_type": "execute_result"
    }
   ],
   "source": [
    "train_df"
   ]
  },
  {
   "cell_type": "code",
   "execution_count": 7,
   "id": "3bcd0328",
   "metadata": {
    "execution": {
     "iopub.execute_input": "2021-08-21T11:52:22.216670Z",
     "iopub.status.busy": "2021-08-21T11:52:22.216023Z",
     "iopub.status.idle": "2021-08-21T11:52:22.221101Z",
     "shell.execute_reply": "2021-08-21T11:52:22.220439Z",
     "shell.execute_reply.started": "2021-08-21T11:48:06.070915Z"
    },
    "papermill": {
     "duration": 0.022755,
     "end_time": "2021-08-21T11:52:22.221220",
     "exception": false,
     "start_time": "2021-08-21T11:52:22.198465",
     "status": "completed"
    },
    "tags": []
   },
   "outputs": [
    {
     "data": {
      "text/html": [
       "<div>\n",
       "<style scoped>\n",
       "    .dataframe tbody tr th:only-of-type {\n",
       "        vertical-align: middle;\n",
       "    }\n",
       "\n",
       "    .dataframe tbody tr th {\n",
       "        vertical-align: top;\n",
       "    }\n",
       "\n",
       "    .dataframe thead th {\n",
       "        text-align: right;\n",
       "    }\n",
       "</style>\n",
       "<table border=\"1\" class=\"dataframe\">\n",
       "  <thead>\n",
       "    <tr style=\"text-align: right;\">\n",
       "      <th></th>\n",
       "      <th>Filepath</th>\n",
       "      <th>Label</th>\n",
       "    </tr>\n",
       "  </thead>\n",
       "  <tbody>\n",
       "    <tr>\n",
       "      <th>15731</th>\n",
       "      <td>../input/surface-crack-detection/Negative/0694...</td>\n",
       "      <td>NEGATIVE</td>\n",
       "    </tr>\n",
       "    <tr>\n",
       "      <th>34272</th>\n",
       "      <td>../input/surface-crack-detection/Negative/0744...</td>\n",
       "      <td>NEGATIVE</td>\n",
       "    </tr>\n",
       "    <tr>\n",
       "      <th>39532</th>\n",
       "      <td>../input/surface-crack-detection/Positive/0052...</td>\n",
       "      <td>POSITIVE</td>\n",
       "    </tr>\n",
       "    <tr>\n",
       "      <th>10818</th>\n",
       "      <td>../input/surface-crack-detection/Positive/0208...</td>\n",
       "      <td>POSITIVE</td>\n",
       "    </tr>\n",
       "    <tr>\n",
       "      <th>35421</th>\n",
       "      <td>../input/surface-crack-detection/Negative/0618...</td>\n",
       "      <td>NEGATIVE</td>\n",
       "    </tr>\n",
       "    <tr>\n",
       "      <th>...</th>\n",
       "      <td>...</td>\n",
       "      <td>...</td>\n",
       "    </tr>\n",
       "    <tr>\n",
       "      <th>7174</th>\n",
       "      <td>../input/surface-crack-detection/Positive/1625...</td>\n",
       "      <td>POSITIVE</td>\n",
       "    </tr>\n",
       "    <tr>\n",
       "      <th>27207</th>\n",
       "      <td>../input/surface-crack-detection/Negative/0607...</td>\n",
       "      <td>NEGATIVE</td>\n",
       "    </tr>\n",
       "    <tr>\n",
       "      <th>28566</th>\n",
       "      <td>../input/surface-crack-detection/Negative/1254...</td>\n",
       "      <td>NEGATIVE</td>\n",
       "    </tr>\n",
       "    <tr>\n",
       "      <th>20688</th>\n",
       "      <td>../input/surface-crack-detection/Positive/0636...</td>\n",
       "      <td>POSITIVE</td>\n",
       "    </tr>\n",
       "    <tr>\n",
       "      <th>20371</th>\n",
       "      <td>../input/surface-crack-detection/Positive/1282...</td>\n",
       "      <td>POSITIVE</td>\n",
       "    </tr>\n",
       "  </tbody>\n",
       "</table>\n",
       "<p>1800 rows × 2 columns</p>\n",
       "</div>"
      ],
      "text/plain": [
       "                                                Filepath     Label\n",
       "15731  ../input/surface-crack-detection/Negative/0694...  NEGATIVE\n",
       "34272  ../input/surface-crack-detection/Negative/0744...  NEGATIVE\n",
       "39532  ../input/surface-crack-detection/Positive/0052...  POSITIVE\n",
       "10818  ../input/surface-crack-detection/Positive/0208...  POSITIVE\n",
       "35421  ../input/surface-crack-detection/Negative/0618...  NEGATIVE\n",
       "...                                                  ...       ...\n",
       "7174   ../input/surface-crack-detection/Positive/1625...  POSITIVE\n",
       "27207  ../input/surface-crack-detection/Negative/0607...  NEGATIVE\n",
       "28566  ../input/surface-crack-detection/Negative/1254...  NEGATIVE\n",
       "20688  ../input/surface-crack-detection/Positive/0636...  POSITIVE\n",
       "20371  ../input/surface-crack-detection/Positive/1282...  POSITIVE\n",
       "\n",
       "[1800 rows x 2 columns]"
      ]
     },
     "execution_count": 7,
     "metadata": {},
     "output_type": "execute_result"
    }
   ],
   "source": [
    "test_df"
   ]
  },
  {
   "cell_type": "code",
   "execution_count": 8,
   "id": "3d044e30",
   "metadata": {
    "execution": {
     "iopub.execute_input": "2021-08-21T11:52:22.242881Z",
     "iopub.status.busy": "2021-08-21T11:52:22.242275Z",
     "iopub.status.idle": "2021-08-21T11:52:22.245411Z",
     "shell.execute_reply": "2021-08-21T11:52:22.244959Z",
     "shell.execute_reply.started": "2021-08-21T11:51:26.874691Z"
    },
    "papermill": {
     "duration": 0.016211,
     "end_time": "2021-08-21T11:52:22.245560",
     "exception": false,
     "start_time": "2021-08-21T11:52:22.229349",
     "status": "completed"
    },
    "tags": []
   },
   "outputs": [],
   "source": [
    "# loading the image data\n",
    "train_gen = tf.keras.preprocessing.image.ImageDataGenerator(\n",
    "    # rescaling it because I want to make sure that the actual image data is comming between values 0 and 1\n",
    "    rescale=1./255,\n",
    "    validation_split=0.2\n",
    ")\n",
    "\n",
    "test_gen = tf.keras.preprocessing.image.ImageDataGenerator(\n",
    "    rescale=1./255\n",
    ")"
   ]
  },
  {
   "cell_type": "code",
   "execution_count": 9,
   "id": "eb95eaa3",
   "metadata": {
    "execution": {
     "iopub.execute_input": "2021-08-21T11:52:22.284725Z",
     "iopub.status.busy": "2021-08-21T11:52:22.284169Z",
     "iopub.status.idle": "2021-08-21T11:52:36.789992Z",
     "shell.execute_reply": "2021-08-21T11:52:36.788996Z",
     "shell.execute_reply.started": "2021-08-21T11:51:34.338641Z"
    },
    "papermill": {
     "duration": 14.536212,
     "end_time": "2021-08-21T11:52:36.790136",
     "exception": false,
     "start_time": "2021-08-21T11:52:22.253924",
     "status": "completed"
    },
    "tags": []
   },
   "outputs": [
    {
     "name": "stdout",
     "output_type": "stream",
     "text": [
      "Found 3360 validated image filenames belonging to 2 classes.\n",
      "Found 840 validated image filenames belonging to 2 classes.\n",
      "Found 1800 validated image filenames belonging to 2 classes.\n"
     ]
    }
   ],
   "source": [
    "# flowing data from the data frames\n",
    "train_data = train_gen.flow_from_dataframe(\n",
    "    train_df,\n",
    "    # specifying which column is used as a filepath and which column is used as labels\n",
    "    x_col='Filepath',\n",
    "    y_col='Label',\n",
    "    target_size=(120, 120),\n",
    "    color_mode='rgb',\n",
    "    class_mode='binary',\n",
    "    batch_size=32,\n",
    "    shuffle=True,\n",
    "    seed=42,\n",
    "    subset='training'\n",
    ")\n",
    "\n",
    "val_data = train_gen.flow_from_dataframe(\n",
    "    train_df,\n",
    "    x_col='Filepath',\n",
    "    y_col='Label',\n",
    "    target_size=(120, 120),\n",
    "    color_mode='rgb',\n",
    "    class_mode='binary',\n",
    "    batch_size=32,\n",
    "    shuffle=True,\n",
    "    seed=42,\n",
    "    subset='validation'\n",
    ")\n",
    "\n",
    "test_data = train_gen.flow_from_dataframe(\n",
    "    test_df,\n",
    "    x_col='Filepath',\n",
    "    y_col='Label',\n",
    "    target_size=(120, 120),\n",
    "    color_mode='rgb',\n",
    "    class_mode='binary',\n",
    "    batch_size=32,\n",
    "    shuffle=False,\n",
    "    seed=42\n",
    ")"
   ]
  }
 ],
 "metadata": {
  "kernelspec": {
   "display_name": "Python 3",
   "language": "python",
   "name": "python3"
  },
  "language_info": {
   "codemirror_mode": {
    "name": "ipython",
    "version": 3
   },
   "file_extension": ".py",
   "mimetype": "text/x-python",
   "name": "python",
   "nbconvert_exporter": "python",
   "pygments_lexer": "ipython3",
   "version": "3.7.10"
  },
  "papermill": {
   "default_parameters": {},
   "duration": 33.854146,
   "end_time": "2021-08-21T11:52:38.529810",
   "environment_variables": {},
   "exception": null,
   "input_path": "__notebook__.ipynb",
   "output_path": "__notebook__.ipynb",
   "parameters": {},
   "start_time": "2021-08-21T11:52:04.675664",
   "version": "2.3.3"
  }
 },
 "nbformat": 4,
 "nbformat_minor": 5
}
