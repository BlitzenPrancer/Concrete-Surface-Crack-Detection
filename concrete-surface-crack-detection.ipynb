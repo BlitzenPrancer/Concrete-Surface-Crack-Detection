{
 "cells": [
  {
   "cell_type": "code",
   "execution_count": 1,
   "id": "3ffbe925",
   "metadata": {
    "_cell_guid": "b1076dfc-b9ad-4769-8c92-a6c4dae69d19",
    "_uuid": "8f2839f25d086af736a60e9eeb907d3b93b6e0e5",
    "execution": {
     "iopub.execute_input": "2021-08-21T11:48:45.604285Z",
     "iopub.status.busy": "2021-08-21T11:48:45.603645Z",
     "iopub.status.idle": "2021-08-21T11:48:53.721180Z",
     "shell.execute_reply": "2021-08-21T11:48:53.720348Z",
     "shell.execute_reply.started": "2021-08-21T11:44:35.383243Z"
    },
    "papermill": {
     "duration": 8.137446,
     "end_time": "2021-08-21T11:48:53.721355",
     "exception": false,
     "start_time": "2021-08-21T11:48:45.583909",
     "status": "completed"
    },
    "tags": []
   },
   "outputs": [],
   "source": [
    "# i am importing numpy and pands for working with data\n",
    "import numpy as np\n",
    "import pandas as pd\n",
    "\n",
    "# for visualisation\n",
    "import matplotlib.pyplot as plt\n",
    "import seaborn as sns\n",
    "import plotly.express as px\n",
    "\n",
    "# for preprocessing\n",
    "from pathlib import Path\n",
    "from sklearn.model_selection import train_test_split\n",
    "\n",
    "# i'll get my model up and running with tensorflow\n",
    "import tensorflow as tf\n",
    "\n",
    "# evaluating the performance using sklearn\n",
    "from sklearn.metrics import confusion_matrix, classification_report"
   ]
  },
  {
   "cell_type": "code",
   "execution_count": 2,
   "id": "5a58c65d",
   "metadata": {
    "execution": {
     "iopub.execute_input": "2021-08-21T11:48:53.742206Z",
     "iopub.status.busy": "2021-08-21T11:48:53.741539Z",
     "iopub.status.idle": "2021-08-21T11:48:53.744715Z",
     "shell.execute_reply": "2021-08-21T11:48:53.744214Z",
     "shell.execute_reply.started": "2021-08-21T11:44:51.603333Z"
    },
    "papermill": {
     "duration": 0.014554,
     "end_time": "2021-08-21T11:48:53.744897",
     "exception": false,
     "start_time": "2021-08-21T11:48:53.730343",
     "status": "completed"
    },
    "tags": []
   },
   "outputs": [],
   "source": [
    "# using flow from data frame\n",
    "positive_dir = Path('../input/surface-crack-detection/Positive')\n",
    "negative_dir = Path('../input/surface-crack-detection/Negative')"
   ]
  },
  {
   "cell_type": "code",
   "execution_count": 3,
   "id": "40b65f27",
   "metadata": {
    "execution": {
     "iopub.execute_input": "2021-08-21T11:48:53.765360Z",
     "iopub.status.busy": "2021-08-21T11:48:53.764663Z",
     "iopub.status.idle": "2021-08-21T11:48:53.768012Z",
     "shell.execute_reply": "2021-08-21T11:48:53.767384Z",
     "shell.execute_reply.started": "2021-08-21T11:45:05.402714Z"
    },
    "papermill": {
     "duration": 0.01609,
     "end_time": "2021-08-21T11:48:53.768151",
     "exception": false,
     "start_time": "2021-08-21T11:48:53.752061",
     "status": "completed"
    },
    "tags": []
   },
   "outputs": [],
   "source": [
    "# creating the data frame\n",
    "def generate_df(image_dir, label):\n",
    "    filepaths = pd.Series(list(image_dir.glob(r'*.jpg')), name='Filepath').astype(str)\n",
    "    labels = pd.Series(label, name='Label', index=filepaths.index)\n",
    "    df = pd.concat([filepaths, labels], axis=1)\n",
    "    return df"
   ]
  },
  {
   "cell_type": "code",
   "execution_count": 4,
   "id": "63fdd425",
   "metadata": {
    "execution": {
     "iopub.execute_input": "2021-08-21T11:48:53.788566Z",
     "iopub.status.busy": "2021-08-21T11:48:53.787864Z",
     "iopub.status.idle": "2021-08-21T11:48:56.407307Z",
     "shell.execute_reply": "2021-08-21T11:48:56.407837Z",
     "shell.execute_reply.started": "2021-08-21T11:47:16.682276Z"
    },
    "papermill": {
     "duration": 2.632453,
     "end_time": "2021-08-21T11:48:56.408027",
     "exception": false,
     "start_time": "2021-08-21T11:48:53.775574",
     "status": "completed"
    },
    "tags": []
   },
   "outputs": [
    {
     "name": "stdout",
     "output_type": "stream",
     "text": [
      "                                                Filepath     Label\n",
      "0      ../input/surface-crack-detection/Positive/0574...  POSITIVE\n",
      "1      ../input/surface-crack-detection/Positive/1870...  POSITIVE\n",
      "2      ../input/surface-crack-detection/Positive/0967...  POSITIVE\n",
      "3      ../input/surface-crack-detection/Negative/0791...  NEGATIVE\n",
      "4      ../input/surface-crack-detection/Positive/1400...  POSITIVE\n",
      "...                                                  ...       ...\n",
      "39995  ../input/surface-crack-detection/Positive/0854...  POSITIVE\n",
      "39996  ../input/surface-crack-detection/Negative/1944...  NEGATIVE\n",
      "39997  ../input/surface-crack-detection/Positive/0977...  POSITIVE\n",
      "39998  ../input/surface-crack-detection/Positive/1504...  POSITIVE\n",
      "39999  ../input/surface-crack-detection/Negative/1099...  NEGATIVE\n",
      "\n",
      "[40000 rows x 2 columns]\n"
     ]
    }
   ],
   "source": [
    "positive_df = generate_df(positive_dir, label=\"POSITIVE\")\n",
    "negative_df = generate_df(negative_dir, label=\"NEGATIVE\")\n",
    "\n",
    "all_df = pd.concat([positive_df, negative_df], axis=0).sample(frac=1.0, random_state=1).reset_index(drop=True)\n",
    "print(all_df)"
   ]
  },
  {
   "cell_type": "code",
   "execution_count": 5,
   "id": "fe0cb161",
   "metadata": {
    "execution": {
     "iopub.execute_input": "2021-08-21T11:48:56.429584Z",
     "iopub.status.busy": "2021-08-21T11:48:56.428957Z",
     "iopub.status.idle": "2021-08-21T11:48:56.435401Z",
     "shell.execute_reply": "2021-08-21T11:48:56.434886Z",
     "shell.execute_reply.started": "2021-08-21T11:47:39.691173Z"
    },
    "papermill": {
     "duration": 0.019784,
     "end_time": "2021-08-21T11:48:56.435537",
     "exception": false,
     "start_time": "2021-08-21T11:48:56.415753",
     "status": "completed"
    },
    "tags": []
   },
   "outputs": [],
   "source": [
    "# doing the train test split from sklearn\n",
    "train_df, test_df = train_test_split(\n",
    "    all_df.sample(6000, random_state=1),\n",
    "    train_size=0.7,\n",
    "    shuffle=True,\n",
    "    random_state=1\n",
    ")"
   ]
  },
  {
   "cell_type": "code",
   "execution_count": 6,
   "id": "b9a03e63",
   "metadata": {
    "execution": {
     "iopub.execute_input": "2021-08-21T11:48:56.461545Z",
     "iopub.status.busy": "2021-08-21T11:48:56.460882Z",
     "iopub.status.idle": "2021-08-21T11:48:56.471159Z",
     "shell.execute_reply": "2021-08-21T11:48:56.470593Z",
     "shell.execute_reply.started": "2021-08-21T11:47:54.602397Z"
    },
    "papermill": {
     "duration": 0.028346,
     "end_time": "2021-08-21T11:48:56.471309",
     "exception": false,
     "start_time": "2021-08-21T11:48:56.442963",
     "status": "completed"
    },
    "tags": []
   },
   "outputs": [
    {
     "data": {
      "text/html": [
       "<div>\n",
       "<style scoped>\n",
       "    .dataframe tbody tr th:only-of-type {\n",
       "        vertical-align: middle;\n",
       "    }\n",
       "\n",
       "    .dataframe tbody tr th {\n",
       "        vertical-align: top;\n",
       "    }\n",
       "\n",
       "    .dataframe thead th {\n",
       "        text-align: right;\n",
       "    }\n",
       "</style>\n",
       "<table border=\"1\" class=\"dataframe\">\n",
       "  <thead>\n",
       "    <tr style=\"text-align: right;\">\n",
       "      <th></th>\n",
       "      <th>Filepath</th>\n",
       "      <th>Label</th>\n",
       "    </tr>\n",
       "  </thead>\n",
       "  <tbody>\n",
       "    <tr>\n",
       "      <th>30189</th>\n",
       "      <td>../input/surface-crack-detection/Negative/1208...</td>\n",
       "      <td>NEGATIVE</td>\n",
       "    </tr>\n",
       "    <tr>\n",
       "      <th>8931</th>\n",
       "      <td>../input/surface-crack-detection/Negative/0385...</td>\n",
       "      <td>NEGATIVE</td>\n",
       "    </tr>\n",
       "    <tr>\n",
       "      <th>29084</th>\n",
       "      <td>../input/surface-crack-detection/Positive/0641...</td>\n",
       "      <td>POSITIVE</td>\n",
       "    </tr>\n",
       "    <tr>\n",
       "      <th>29189</th>\n",
       "      <td>../input/surface-crack-detection/Negative/1611...</td>\n",
       "      <td>NEGATIVE</td>\n",
       "    </tr>\n",
       "    <tr>\n",
       "      <th>2645</th>\n",
       "      <td>../input/surface-crack-detection/Negative/1833...</td>\n",
       "      <td>NEGATIVE</td>\n",
       "    </tr>\n",
       "    <tr>\n",
       "      <th>...</th>\n",
       "      <td>...</td>\n",
       "      <td>...</td>\n",
       "    </tr>\n",
       "    <tr>\n",
       "      <th>2090</th>\n",
       "      <td>../input/surface-crack-detection/Positive/0836...</td>\n",
       "      <td>POSITIVE</td>\n",
       "    </tr>\n",
       "    <tr>\n",
       "      <th>35101</th>\n",
       "      <td>../input/surface-crack-detection/Positive/1839...</td>\n",
       "      <td>POSITIVE</td>\n",
       "    </tr>\n",
       "    <tr>\n",
       "      <th>8720</th>\n",
       "      <td>../input/surface-crack-detection/Positive/0939...</td>\n",
       "      <td>POSITIVE</td>\n",
       "    </tr>\n",
       "    <tr>\n",
       "      <th>9955</th>\n",
       "      <td>../input/surface-crack-detection/Positive/0140...</td>\n",
       "      <td>POSITIVE</td>\n",
       "    </tr>\n",
       "    <tr>\n",
       "      <th>24438</th>\n",
       "      <td>../input/surface-crack-detection/Negative/0707...</td>\n",
       "      <td>NEGATIVE</td>\n",
       "    </tr>\n",
       "  </tbody>\n",
       "</table>\n",
       "<p>4200 rows × 2 columns</p>\n",
       "</div>"
      ],
      "text/plain": [
       "                                                Filepath     Label\n",
       "30189  ../input/surface-crack-detection/Negative/1208...  NEGATIVE\n",
       "8931   ../input/surface-crack-detection/Negative/0385...  NEGATIVE\n",
       "29084  ../input/surface-crack-detection/Positive/0641...  POSITIVE\n",
       "29189  ../input/surface-crack-detection/Negative/1611...  NEGATIVE\n",
       "2645   ../input/surface-crack-detection/Negative/1833...  NEGATIVE\n",
       "...                                                  ...       ...\n",
       "2090   ../input/surface-crack-detection/Positive/0836...  POSITIVE\n",
       "35101  ../input/surface-crack-detection/Positive/1839...  POSITIVE\n",
       "8720   ../input/surface-crack-detection/Positive/0939...  POSITIVE\n",
       "9955   ../input/surface-crack-detection/Positive/0140...  POSITIVE\n",
       "24438  ../input/surface-crack-detection/Negative/0707...  NEGATIVE\n",
       "\n",
       "[4200 rows x 2 columns]"
      ]
     },
     "execution_count": 6,
     "metadata": {},
     "output_type": "execute_result"
    }
   ],
   "source": [
    "train_df"
   ]
  },
  {
   "cell_type": "code",
   "execution_count": 7,
   "id": "995e3ca6",
   "metadata": {
    "execution": {
     "iopub.execute_input": "2021-08-21T11:48:56.500336Z",
     "iopub.status.busy": "2021-08-21T11:48:56.499387Z",
     "iopub.status.idle": "2021-08-21T11:48:56.503885Z",
     "shell.execute_reply": "2021-08-21T11:48:56.503382Z",
     "shell.execute_reply.started": "2021-08-21T11:48:06.070915Z"
    },
    "papermill": {
     "duration": 0.024557,
     "end_time": "2021-08-21T11:48:56.504030",
     "exception": false,
     "start_time": "2021-08-21T11:48:56.479473",
     "status": "completed"
    },
    "tags": []
   },
   "outputs": [
    {
     "data": {
      "text/html": [
       "<div>\n",
       "<style scoped>\n",
       "    .dataframe tbody tr th:only-of-type {\n",
       "        vertical-align: middle;\n",
       "    }\n",
       "\n",
       "    .dataframe tbody tr th {\n",
       "        vertical-align: top;\n",
       "    }\n",
       "\n",
       "    .dataframe thead th {\n",
       "        text-align: right;\n",
       "    }\n",
       "</style>\n",
       "<table border=\"1\" class=\"dataframe\">\n",
       "  <thead>\n",
       "    <tr style=\"text-align: right;\">\n",
       "      <th></th>\n",
       "      <th>Filepath</th>\n",
       "      <th>Label</th>\n",
       "    </tr>\n",
       "  </thead>\n",
       "  <tbody>\n",
       "    <tr>\n",
       "      <th>15731</th>\n",
       "      <td>../input/surface-crack-detection/Negative/0694...</td>\n",
       "      <td>NEGATIVE</td>\n",
       "    </tr>\n",
       "    <tr>\n",
       "      <th>34272</th>\n",
       "      <td>../input/surface-crack-detection/Negative/0744...</td>\n",
       "      <td>NEGATIVE</td>\n",
       "    </tr>\n",
       "    <tr>\n",
       "      <th>39532</th>\n",
       "      <td>../input/surface-crack-detection/Positive/0052...</td>\n",
       "      <td>POSITIVE</td>\n",
       "    </tr>\n",
       "    <tr>\n",
       "      <th>10818</th>\n",
       "      <td>../input/surface-crack-detection/Positive/0208...</td>\n",
       "      <td>POSITIVE</td>\n",
       "    </tr>\n",
       "    <tr>\n",
       "      <th>35421</th>\n",
       "      <td>../input/surface-crack-detection/Negative/0618...</td>\n",
       "      <td>NEGATIVE</td>\n",
       "    </tr>\n",
       "    <tr>\n",
       "      <th>...</th>\n",
       "      <td>...</td>\n",
       "      <td>...</td>\n",
       "    </tr>\n",
       "    <tr>\n",
       "      <th>7174</th>\n",
       "      <td>../input/surface-crack-detection/Positive/1625...</td>\n",
       "      <td>POSITIVE</td>\n",
       "    </tr>\n",
       "    <tr>\n",
       "      <th>27207</th>\n",
       "      <td>../input/surface-crack-detection/Negative/0607...</td>\n",
       "      <td>NEGATIVE</td>\n",
       "    </tr>\n",
       "    <tr>\n",
       "      <th>28566</th>\n",
       "      <td>../input/surface-crack-detection/Negative/1254...</td>\n",
       "      <td>NEGATIVE</td>\n",
       "    </tr>\n",
       "    <tr>\n",
       "      <th>20688</th>\n",
       "      <td>../input/surface-crack-detection/Positive/0636...</td>\n",
       "      <td>POSITIVE</td>\n",
       "    </tr>\n",
       "    <tr>\n",
       "      <th>20371</th>\n",
       "      <td>../input/surface-crack-detection/Positive/1282...</td>\n",
       "      <td>POSITIVE</td>\n",
       "    </tr>\n",
       "  </tbody>\n",
       "</table>\n",
       "<p>1800 rows × 2 columns</p>\n",
       "</div>"
      ],
      "text/plain": [
       "                                                Filepath     Label\n",
       "15731  ../input/surface-crack-detection/Negative/0694...  NEGATIVE\n",
       "34272  ../input/surface-crack-detection/Negative/0744...  NEGATIVE\n",
       "39532  ../input/surface-crack-detection/Positive/0052...  POSITIVE\n",
       "10818  ../input/surface-crack-detection/Positive/0208...  POSITIVE\n",
       "35421  ../input/surface-crack-detection/Negative/0618...  NEGATIVE\n",
       "...                                                  ...       ...\n",
       "7174   ../input/surface-crack-detection/Positive/1625...  POSITIVE\n",
       "27207  ../input/surface-crack-detection/Negative/0607...  NEGATIVE\n",
       "28566  ../input/surface-crack-detection/Negative/1254...  NEGATIVE\n",
       "20688  ../input/surface-crack-detection/Positive/0636...  POSITIVE\n",
       "20371  ../input/surface-crack-detection/Positive/1282...  POSITIVE\n",
       "\n",
       "[1800 rows x 2 columns]"
      ]
     },
     "execution_count": 7,
     "metadata": {},
     "output_type": "execute_result"
    }
   ],
   "source": [
    "test_df"
   ]
  }
 ],
 "metadata": {
  "kernelspec": {
   "display_name": "Python 3",
   "language": "python",
   "name": "python3"
  },
  "language_info": {
   "codemirror_mode": {
    "name": "ipython",
    "version": 3
   },
   "file_extension": ".py",
   "mimetype": "text/x-python",
   "name": "python",
   "nbconvert_exporter": "python",
   "pygments_lexer": "ipython3",
   "version": "3.7.10"
  },
  "papermill": {
   "default_parameters": {},
   "duration": 20.803799,
   "end_time": "2021-08-21T11:48:58.199969",
   "environment_variables": {},
   "exception": null,
   "input_path": "__notebook__.ipynb",
   "output_path": "__notebook__.ipynb",
   "parameters": {},
   "start_time": "2021-08-21T11:48:37.396170",
   "version": "2.3.3"
  }
 },
 "nbformat": 4,
 "nbformat_minor": 5
}
