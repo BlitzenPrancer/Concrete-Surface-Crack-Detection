{
 "cells": [
  {
   "cell_type": "code",
   "execution_count": 1,
   "id": "b58ae91f",
   "metadata": {
    "_cell_guid": "b1076dfc-b9ad-4769-8c92-a6c4dae69d19",
    "_uuid": "8f2839f25d086af736a60e9eeb907d3b93b6e0e5",
    "execution": {
     "iopub.execute_input": "2021-08-21T11:38:54.092567Z",
     "iopub.status.busy": "2021-08-21T11:38:54.090786Z",
     "iopub.status.idle": "2021-08-21T11:39:02.506103Z",
     "shell.execute_reply": "2021-08-21T11:39:02.505068Z"
    },
    "papermill": {
     "duration": 8.424188,
     "end_time": "2021-08-21T11:39:02.506272",
     "exception": false,
     "start_time": "2021-08-21T11:38:54.082084",
     "status": "completed"
    },
    "tags": []
   },
   "outputs": [],
   "source": [
    "# i am importing numpy and pands for working with data\n",
    "import numpy as np\n",
    "import pandas as pd\n",
    "\n",
    "# for visualisation\n",
    "import matplotlib.pyplot as plt\n",
    "import seaborn as sns\n",
    "import plotly.express as px\n",
    "\n",
    "# for preprocessing\n",
    "from pathlib import Path\n",
    "from sklearn.model_selection import train_test_split\n",
    "\n",
    "# i'll get my model up and running with tensorflow\n",
    "import tensorflow as tf\n",
    "\n",
    "# evaluating the performance using sklearn\n",
    "from sklearn.metrics import confusion_matrix, classification_report"
   ]
  }
 ],
 "metadata": {
  "kernelspec": {
   "display_name": "Python 3",
   "language": "python",
   "name": "python3"
  },
  "language_info": {
   "codemirror_mode": {
    "name": "ipython",
    "version": 3
   },
   "file_extension": ".py",
   "mimetype": "text/x-python",
   "name": "python",
   "nbconvert_exporter": "python",
   "pygments_lexer": "ipython3",
   "version": "3.7.10"
  },
  "papermill": {
   "default_parameters": {},
   "duration": 18.757422,
   "end_time": "2021-08-21T11:39:04.695027",
   "environment_variables": {},
   "exception": null,
   "input_path": "__notebook__.ipynb",
   "output_path": "__notebook__.ipynb",
   "parameters": {},
   "start_time": "2021-08-21T11:38:45.937605",
   "version": "2.3.3"
  }
 },
 "nbformat": 4,
 "nbformat_minor": 5
}
